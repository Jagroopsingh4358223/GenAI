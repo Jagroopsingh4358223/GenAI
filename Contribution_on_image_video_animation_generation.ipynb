{
  "cells": [
    {
      "cell_type": "markdown",
      "metadata": {
        "id": "view-in-github",
        "colab_type": "text"
      },
      "source": [
        "<a href=\"https://colab.research.google.com/github/Jagroopsingh4358223/GenAI/blob/main/Contribution_on_image_video_animation_generation.ipynb\" target=\"_parent\"><img src=\"https://colab.research.google.com/assets/colab-badge.svg\" alt=\"Open In Colab\"/></a>"
      ]
    },
    {
      "cell_type": "markdown",
      "source": [
        "# **TITLE : \"GenAI Image and GIF Generator using REPLICATE\"**\n",
        "\n",
        "\n",
        "\n"
      ],
      "metadata": {
        "id": "M49lstKso4R4"
      }
    },
    {
      "cell_type": "markdown",
      "source": [
        "#  Project Scope :\n",
        "With the use of REPLICATE, GenAI aims to develop a user-friendly platform for producing excellent photos and GIFs. The software will have an interface that is easy for users to use, sophisticated artificial intelligence algorithms,and the ability to preview and update content. The project focuses on scalability, efficiency, and user happiness, guaranteeing the smooth creation of visually attractive material according to individual tastes.\n",
        "\n",
        "\n",
        "\n",
        "\n",
        "\n",
        "\n"
      ],
      "metadata": {
        "id": "ssJFs-pD6jnp"
      }
    },
    {
      "cell_type": "markdown",
      "source": [
        "# GROUP MEMBERS\n",
        "* JAGROOP SINGH   \n",
        "      ID 4358223\n",
        "* LOVEPREET KAUR\n",
        "      ID 4357853\n"
      ],
      "metadata": {
        "id": "-ipdHktp9yIQ"
      }
    },
    {
      "cell_type": "markdown",
      "source": [
        "# **DETAILED PROJECT DESCRIPTION**\n",
        "\n",
        "\n",
        "By utilizing the REPLICATE technology, GenAI is capable of developing a platform that generates customized photos and GIFs in accordance with the needs and preferences of its users.\n",
        "\n",
        "By leveraging cutting-edge artificial intelligence algorithms, it offers sophisticated customization functionalities and altering options that are intuitive for users. The GenAI platform prioritizes efficiency and scalability. It provides high-quality, customizable visual content production that is tailored to the specifications and preferences of individual customers.\n"
      ],
      "metadata": {
        "id": "sMu2PBUfEMb5"
      }
    },
    {
      "cell_type": "markdown",
      "source": [
        "# OBJECTIVES\n",
        "1. Create an easy-to-use user interface that lets people connect with and enter information for making images and GIFs.\n",
        "2. Use powerful AI techniques in REPLICATE to figure out what users want and make visual material that fits those needs.\n",
        "3. Make sure the system can grow and work efficiently so it can handle different user requests well.\n",
        "4. Add features for personalization that let users change material to fit their wants and tastes.\n",
        "5. Give users the ability to preview and change created pictures and GIFs to make them look better.\n",
        "\n",
        "\n",
        "\n",
        "\n",
        "\n",
        "\n",
        "\n",
        "\n",
        "\n",
        "\n",
        "\n",
        "\n"
      ],
      "metadata": {
        "id": "LIMZbAotNgUT"
      }
    },
    {
      "cell_type": "markdown",
      "source": [
        "# EXPECTED OUTCOMES:\n",
        "1. An easy-to-use layout that makes it easier for people to view and make images and GIFs.\n",
        "2. Advanced AI systems that make high-quality graphic material that correctly reflects what users want.\n",
        "3. A tool that can be expanded to meet the needs of a growing number of users.\n",
        "4. material customization choices that let users make the material fit their own wants and needs.\n",
        "5. Preview and changing tools make it easier to improve and be happy with the pictures and GIFs that are made.\n",
        "\n"
      ],
      "metadata": {
        "id": "ouFrlqNB6ax4"
      }
    },
    {
      "cell_type": "markdown",
      "source": [
        "# Modification /New specification Cell\n",
        "Among the new features in the update are a safe API token system for user authentication, REPLICATE AI for making images and GIFs, better prompts for content creation, the ability for the community to work together with prompts, full API documentation for third-party integration, and ways for users to give feedback on how to make the platform better and better.\n",
        "\n",
        "## Impact:\n",
        "These changes and efforts have had the following effects:\n",
        "1. **Better security**: integrating API tokens makes sure safe access, protecting user data and privacy.\n",
        "   \n",
        "2. **Better Quality Content**: Adding REPLICATE AI improves the quality and variety of pictures and GIFs that are made.\n",
        "   \n",
        "3. **Better User Experience**: **Prompts for Improvement and Explanation** make it easier to create content, which lowers user friction.\n",
        "   \n",
        "4. **More Customization**: Giving people more ways to customize gives them more control over the end result, which makes them happier.\n",
        "\n",
        "5. **Developer Enablement**: Full API guidance makes merging easier for developers, which leads to more usage and new ideas.\n",
        "   "
      ],
      "metadata": {
        "id": "1FQxZRo5-NXM"
      }
    },
    {
      "cell_type": "markdown",
      "source": [
        "# Criteria Specific Cell\n",
        "\n",
        "# **Relevance**:\n",
        "1. Addressing the increasing demand for aesthetically pleasing content.\n",
        "2. Implementing AI technology to accelerate the material production process.\n",
        "3. Providing individuals with the opportunity to modify elements in order to generate their own content.\n",
        "4. Demonstrating adherence to current technological trends.\n",
        "5. Fostering user involvement and connection through group collaboration.\n",
        "6. Facilitating acceptance and convenience by designing products to be user-friendly.\n",
        "7. Ensuring continuous improvement through insightful feedback and the incorporation of new information.\n",
        "\n",
        "\n",
        "# **Applications**\n",
        "1. This includes creating visually appealing social media marketing posts, advertisements, and strategies.\n",
        "2. Integrating the AI-powered generator into platforms utilized by digital contributors such as bloggers and vloggers to generate content.\n",
        "3. Creating product images and promotional GIFs for online retailers.\n",
        "4. Creating visually engaging images to support digital advertising initiatives.\n",
        "5. Constructing instructional modules and learning aids using dynamic video content.\n",
        "6. Producing animation GIFs and visual effects for the entertainment industry.\n",
        "\n",
        "\n",
        "# **Innovation**\n",
        "1. The production of content using advanced AI systems exemplifies creativity.\n",
        "2. Increasing user engagement and satisfaction through the provision of a customizable layout and straightforward navigation.\n",
        "3. Idea sharing facilitates collaboration and fosters innovation among individuals.\n",
        "4. Commit to continuous improvement through the utilization of feedback mechanisms and development assistance.\n",
        "5. Transcending conventional marketing practices to demonstrate flexibility and adaptability across enterprises.\n",
        "6. advancing usability and accessibility by utilizing materials and designs that are universally applicable.\n",
        "\n",
        "\n",
        "# **Technical Proficiency:**\n",
        "\n",
        "1. Showing that they are knowledgeable in creating AI algorithms for making images and GIFs.\n",
        "2. Making a platform that is reliable and flexible, with a good server design and user parts that work well together.\n",
        "3. Integrating APIs safely for authentication, data sharing, and access to external services.\n",
        "4. Making a user interface that is easy to use and looks good to improve the user experience and usefulness.\n",
        "5. Giving developers a lot of information about how to use the API, including user guides, technical specs, and API references.\n",
        "6. Doing thorough tests to find bugs, security holes, and speed problems and fix them.\n",
        "7. Implementing strong security measures, such as encryption, identification, and access control.\n",
        "8. Making sure the platform can handle a lot of requests from users at once, with improvements to speed, scale, and ability to respond quickly.\n",
        "\n",
        "\n",
        "\n"
      ],
      "metadata": {
        "id": "LZX1oiB09M9C"
      }
    },
    {
      "cell_type": "markdown",
      "source": [
        "#**Code 1: Install Replicate**\n",
        "\n",
        "This code installs the Replicate library using pip, which is a Python package for AI-driven image and GIF generation. The !pip install replicate command installs Replicate from PyPI."
      ],
      "metadata": {
        "id": "03xL0Alon2h6"
      }
    },
    {
      "cell_type": "code",
      "execution_count": null,
      "metadata": {
        "colab": {
          "base_uri": "https://localhost:8080/"
        },
        "id": "K-f4rzIDbk8n",
        "outputId": "7f1e49f7-7c6c-4a80-adaa-1c8e10cf9ee1"
      },
      "outputs": [
        {
          "output_type": "stream",
          "name": "stdout",
          "text": [
            "Collecting replicate\n",
            "  Downloading replicate-0.25.1-py3-none-any.whl (39 kB)\n",
            "Collecting httpx<1,>=0.21.0 (from replicate)\n",
            "  Downloading httpx-0.27.0-py3-none-any.whl (75 kB)\n",
            "\u001b[2K     \u001b[90m━━━━━━━━━━━━━━━━━━━━━━━━━━━━━━━━━━━━━━━━\u001b[0m \u001b[32m75.6/75.6 kB\u001b[0m \u001b[31m5.7 MB/s\u001b[0m eta \u001b[36m0:00:00\u001b[0m\n",
            "\u001b[?25hRequirement already satisfied: packaging in /usr/local/lib/python3.10/dist-packages (from replicate) (24.0)\n",
            "Requirement already satisfied: pydantic>1.10.7 in /usr/local/lib/python3.10/dist-packages (from replicate) (2.6.4)\n",
            "Requirement already satisfied: typing-extensions>=4.5.0 in /usr/local/lib/python3.10/dist-packages (from replicate) (4.10.0)\n",
            "Requirement already satisfied: anyio in /usr/local/lib/python3.10/dist-packages (from httpx<1,>=0.21.0->replicate) (3.7.1)\n",
            "Requirement already satisfied: certifi in /usr/local/lib/python3.10/dist-packages (from httpx<1,>=0.21.0->replicate) (2024.2.2)\n",
            "Collecting httpcore==1.* (from httpx<1,>=0.21.0->replicate)\n",
            "  Downloading httpcore-1.0.5-py3-none-any.whl (77 kB)\n",
            "\u001b[2K     \u001b[90m━━━━━━━━━━━━━━━━━━━━━━━━━━━━━━━━━━━━━━━━\u001b[0m \u001b[32m77.9/77.9 kB\u001b[0m \u001b[31m6.4 MB/s\u001b[0m eta \u001b[36m0:00:00\u001b[0m\n",
            "\u001b[?25hRequirement already satisfied: idna in /usr/local/lib/python3.10/dist-packages (from httpx<1,>=0.21.0->replicate) (3.6)\n",
            "Requirement already satisfied: sniffio in /usr/local/lib/python3.10/dist-packages (from httpx<1,>=0.21.0->replicate) (1.3.1)\n",
            "Collecting h11<0.15,>=0.13 (from httpcore==1.*->httpx<1,>=0.21.0->replicate)\n",
            "  Downloading h11-0.14.0-py3-none-any.whl (58 kB)\n",
            "\u001b[2K     \u001b[90m━━━━━━━━━━━━━━━━━━━━━━━━━━━━━━━━━━━━━━━━\u001b[0m \u001b[32m58.3/58.3 kB\u001b[0m \u001b[31m4.2 MB/s\u001b[0m eta \u001b[36m0:00:00\u001b[0m\n",
            "\u001b[?25hRequirement already satisfied: annotated-types>=0.4.0 in /usr/local/lib/python3.10/dist-packages (from pydantic>1.10.7->replicate) (0.6.0)\n",
            "Requirement already satisfied: pydantic-core==2.16.3 in /usr/local/lib/python3.10/dist-packages (from pydantic>1.10.7->replicate) (2.16.3)\n",
            "Requirement already satisfied: exceptiongroup in /usr/local/lib/python3.10/dist-packages (from anyio->httpx<1,>=0.21.0->replicate) (1.2.0)\n",
            "Installing collected packages: h11, httpcore, httpx, replicate\n",
            "Successfully installed h11-0.14.0 httpcore-1.0.5 httpx-0.27.0 replicate-0.25.1\n"
          ]
        }
      ],
      "source": [
        "# @title Install Replicate\n",
        "!pip install replicate"
      ]
    },
    {
      "cell_type": "markdown",
      "source": [
        "# **Code 2: Set API Token for Replicate**\n",
        "\n",
        "This code sets the API token for Replicate by assigning the token to the environment variable `REPLICATE_API_TOKEN`. The token is retrieved from the given API variable. This allows authentication for using Replicate services."
      ],
      "metadata": {
        "id": "sFTSpliVoGgA"
      }
    },
    {
      "cell_type": "code",
      "execution_count": null,
      "metadata": {
        "id": "cFmhr3PSf4G2"
      },
      "outputs": [],
      "source": [
        "API = \"r8_3BUBOyAeNvWjQXugPPh5aNE3nhA8aQV2vExnu\"\n",
        "import os\n",
        "\n",
        "os.environ[\"REPLICATE_API_TOKEN\"] = API #find it here: https://replicate.com/signin?next=/account/api-tokens\n"
      ]
    },
    {
      "cell_type": "markdown",
      "source": [
        "# **Code 3: Generate Image**\n",
        "\n",
        "This code generates an image using the Replicate library. The `prompt` variable contains a description of the desired image. The `replicate.run()` function executes the AI model specified by the Docker image tag, passing the prompt as input. The generated image is stored in the `output` variable."
      ],
      "metadata": {
        "id": "99b2KkrToOPY"
      }
    },
    {
      "cell_type": "code",
      "execution_count": null,
      "metadata": {
        "colab": {
          "base_uri": "https://localhost:8080/"
        },
        "id": "0zz83wA6cqSF",
        "outputId": "b432695d-cc89-4afa-a08a-5b3b0ca64a99"
      },
      "outputs": [
        {
          "output_type": "execute_result",
          "data": {
            "text/plain": [
              "['https://replicate.delivery/pbxt/8RKW8beOQkyRGqSEUHN8n9zxVhQ4mU4NnDd79YUNcsqcZ7SJA/out-0.png']"
            ]
          },
          "metadata": {},
          "execution_count": 3
        }
      ],
      "source": [
        "# @title Generate Image\n",
        "prompt = \"a boy holding a brick\"\n",
        "import replicate\n",
        "\n",
        "output = replicate.run(\n",
        "  \"stability-ai/stable-diffusion:27b93a2413e7f36cd83da926f3656280b2931564ff050bf9575f1fdf9bcd7478\",\n",
        "  input={\"prompt\":prompt}\n",
        ")\n",
        "\n",
        "output"
      ]
    },
    {
      "cell_type": "markdown",
      "source": [
        "# **Code 4: Display Generated Image**\n",
        "\n",
        "This code displays the generated image using the IPython library. The `output_image` variable contains the URL of the generated image. The `Image()` function from IPython.display is used to display the image in the notebook."
      ],
      "metadata": {
        "id": "0HNTesaHoSYo"
      }
    },
    {
      "cell_type": "code",
      "execution_count": null,
      "metadata": {
        "colab": {
          "base_uri": "https://localhost:8080/",
          "height": 534
        },
        "id": "hwXEISnemCLj",
        "outputId": "49c434cc-6200-45fc-c499-dcd4e41ecee7"
      },
      "outputs": [
        {
          "output_type": "execute_result",
          "data": {
            "text/html": [
              "<img src=\"https://replicate.delivery/pbxt/8RKW8beOQkyRGqSEUHN8n9zxVhQ4mU4NnDd79YUNcsqcZ7SJA/out-0.png\"/>"
            ],
            "text/plain": [
              "<IPython.core.display.Image object>"
            ]
          },
          "metadata": {},
          "execution_count": 4
        }
      ],
      "source": [
        "\n",
        "from IPython.display import Image\n",
        "output_image = output\n",
        "Image(url=output_image[0])"
      ]
    },
    {
      "cell_type": "markdown",
      "source": [
        "# **Code 5: Generate GIF Animation**\n",
        "\n",
        "This code generates a GIF animation using the Replicate library. The `replicate.run()` function executes the specified AI model for generating animations. The input prompts define the start and end states of the animation. The output format is set to GIF with ping-pong looping enabled."
      ],
      "metadata": {
        "id": "tlvYwhh7oVq_"
      }
    },
    {
      "cell_type": "code",
      "execution_count": null,
      "metadata": {
        "colab": {
          "base_uri": "https://localhost:8080/"
        },
        "id": "Misa5E4QiWNZ",
        "outputId": "bab67fdf-4f17-475f-e3d9-cb6660a9159d"
      },
      "outputs": [
        {
          "output_type": "execute_result",
          "data": {
            "text/plain": [
              "<generator object Prediction.output_iterator at 0x7f6fe9882ce0>"
            ]
          },
          "metadata": {},
          "execution_count": 5
        }
      ],
      "source": [
        "# @title Video/gif/animation/Generation\n",
        "import replicate\n",
        "\n",
        "output = replicate.run(\n",
        "    \"andreasjansson/stable-diffusion-animation:ca1f5e306e5721e19c473e0d094e6603f0456fe759c10715fcd6c1b79242d4a5\",\n",
        "    input={\n",
        "        \"prompt_start\": \"a boy standing in front of a door\",\n",
        "        \"prompt_end\": \"the boy kicks the door\",\n",
        "        \"output_format\": \"gif\",\n",
        "        \"gif_ping_pong\": True\n",
        "    }\n",
        ")\n",
        "\n",
        "output\n"
      ]
    },
    {
      "cell_type": "markdown",
      "source": [
        "# **Code 6: Display Generated Video**\n",
        "\n",
        "This code iterates through the `output` variable, which likely contains information about the generated video. It may include metadata such as URLs or file paths where the video can be accessed or downloaded. Each item in the output is printed for further inspection or processing."
      ],
      "metadata": {
        "id": "kNNm0SY7oY1P"
      }
    },
    {
      "cell_type": "code",
      "execution_count": null,
      "metadata": {
        "colab": {
          "base_uri": "https://localhost:8080/"
        },
        "id": "BB0LZJTyjA7Z",
        "outputId": "e706eee9-ecf4-44d6-b005-041aabc5fb7c"
      },
      "outputs": [
        {
          "output_type": "stream",
          "name": "stdout",
          "text": [
            "https://replicate.delivery/pbxt/6luSJj6mRz4mJhFTP3Nx85AtJ2eU43Dx8TQDT1pc1N34a7SJA/video.gif\n"
          ]
        }
      ],
      "source": [
        "# @title generate video\n",
        "for item in output:\n",
        "     #https://replicate.com/andreasjansson/stable-diffusion-animation/versions/ca1f5e306e5721e19c473e0d094e6603f0456fe759c10715fcd6c1b79242d4a5/api#output-schema\n",
        "    print(item)"
      ]
    },
    {
      "cell_type": "markdown",
      "source": [
        "# **Code 7: Get Video URL for Colab**\n",
        "\n",
        "This code retrieves the URL of the generated video for viewing within the Colab notebook. The `gif_url` variable likely contains the URL of the video, which can be used to display or download the video directly in the notebook."
      ],
      "metadata": {
        "id": "w6fZwjtKoggI"
      }
    },
    {
      "cell_type": "code",
      "execution_count": null,
      "metadata": {
        "id": "fuPgsixhkxM4"
      },
      "outputs": [],
      "source": [
        "# @title get the video on colab\n",
        "gif_url= item[0:len(item)]"
      ]
    },
    {
      "cell_type": "markdown",
      "source": [
        "# **Code 8: Display the Video**\n",
        "\n",
        "This code retrieves the generated video from the provided URL and displays it in the Colab notebook. It uses the `requests` library to fetch the video content and the `IPython.display` module to display the video inline. Additionally, it saves the video as a GIF file in the Colab environment and shows it using the `PIL` library."
      ],
      "metadata": {
        "id": "Hmz6QKmwUmw6"
      }
    },
    {
      "cell_type": "code",
      "execution_count": null,
      "metadata": {
        "colab": {
          "base_uri": "https://localhost:8080/",
          "height": 534
        },
        "id": "6VPPvsE3km93",
        "outputId": "943a563e-1f25-4436-b286-826ff815c856"
      },
      "outputs": [
        {
          "output_type": "display_data",
          "data": {
            "text/html": [
              "<img src=\"https://replicate.delivery/pbxt/6luSJj6mRz4mJhFTP3Nx85AtJ2eU43Dx8TQDT1pc1N34a7SJA/video.gif\"/>"
            ],
            "text/plain": [
              "<IPython.core.display.Image object>"
            ]
          },
          "metadata": {}
        }
      ],
      "source": [
        "# @title Show the video\n",
        "import requests\n",
        "from IPython.display import display, Image\n",
        "from PIL import Image as PILImage\n",
        "from io import BytesIO\n",
        "response = requests.get(gif_url)\n",
        "if response.status_code == 200:\n",
        "    # Display the GIF in the notebook\n",
        "    display(Image(url=gif_url))\n",
        "\n",
        "    # Save the GIF in the Colab environment\n",
        "    with open(\"gif_output.gif\", \"wb\") as f:\n",
        "        f.write(response.content)\n",
        "\n",
        "    # Show a saved GIF using PIL\n",
        "    saved_gif = PILImage.open(\"gif_output.gif\")\n",
        "    saved_gif.show()\n",
        "else:\n",
        "    print(\"Failed to fetch GIF\")\n"
      ]
    },
    {
      "cell_type": "markdown",
      "source": [
        "\n",
        "\n",
        "---\n",
        "\n"
      ],
      "metadata": {
        "id": "ZcfQytHkCgB_"
      }
    },
    {
      "cell_type": "markdown",
      "source": [
        "# References\n",
        "\n",
        "* Replicate-API Tokens.https://replicate.com/account/api-tokens\n",
        "\n",
        "* GitHub turna1/GenAI https://github.com/turna1/GenAI\n",
        "\n",
        "* Google Colaboratory. https://colab.research.google.com/"
      ],
      "metadata": {
        "id": "_Lj16ky3-Wip"
      }
    },
    {
      "cell_type": "markdown",
      "source": [
        "#THANK YOU\n",
        "---"
      ],
      "metadata": {
        "id": "LX6Dmm0EV0DT"
      }
    }
  ],
  "metadata": {
    "colab": {
      "provenance": [],
      "include_colab_link": true
    },
    "kernelspec": {
      "display_name": "Python 3",
      "name": "python3"
    },
    "language_info": {
      "name": "python"
    }
  },
  "nbformat": 4,
  "nbformat_minor": 0
}